{
  "nbformat": 4,
  "nbformat_minor": 0,
  "metadata": {
    "colab": {
      "provenance": []
    },
    "kernelspec": {
      "name": "python3",
      "display_name": "Python 3"
    },
    "language_info": {
      "name": "python"
    }
  },
  "cells": [
    {
      "cell_type": "code",
      "execution_count": null,
      "metadata": {
        "id": "OqQ0cRjmT-xx"
      },
      "outputs": [],
      "source": [
        "# Q1. How can you create a Bokeh plot using Python code?"
      ]
    },
    {
      "cell_type": "code",
      "source": [
        "# For creating a Bokeh plot using python code\n",
        "# we have to install Bokeh lib\n",
        "# import nessasory module like Bokeh.io or Bokeh.plotting etc.\n",
        "# then we will give some line of code to plot a specific graph.\n",
        "# and finally we have a graph."
      ],
      "metadata": {
        "id": "_qDPjuifUv0y"
      },
      "execution_count": null,
      "outputs": []
    },
    {
      "cell_type": "code",
      "source": [
        "# Q2. What are glyphs in Bokeh, and how can you add them to a Bokeh plot? Explain with an example.\n",
        "# In Bokeh glyphs are visual shapes to represents data .the can draw scatter plot and line plot etc.\n",
        "# we can add them in a bokeh plot using following steps -\n",
        "# 1 import Bokeh.plotting lib.\n",
        "# 2 Make a figure.\n",
        "# 3 Add glyphs in Figure.\n",
        "# 4 Write preproties of figure like colour , size etc.\n",
        "# 5 show plot."
      ],
      "metadata": {
        "id": "trJfzYnAWs4n"
      },
      "execution_count": null,
      "outputs": []
    },
    {
      "cell_type": "code",
      "source": [
        "# Q3. How can you customize the appearance of a Bokeh plot, including the axis, title, and legend?\n",
        "# Answer:- We can customize the appearance of a bokeh plot with the help of using title , x axis label , y label , legend ,\n",
        "# also using color and size.\n",
        "# for example  we can add coliur in the plot using - fill_color = name of colour,\n",
        "# we can customize size in the plot using - size = value,\n",
        "# we can customize axis in the plot  using - xaxis.axis_label. yaxis.axis_label,\n",
        "# also we can customize the plot with title using - var = figure(title=\"Title\")"
      ],
      "metadata": {
        "id": "bU0JSSWbYVta"
      },
      "execution_count": null,
      "outputs": []
    },
    {
      "cell_type": "code",
      "source": [
        "# Q4. What is a Bokeh server, and how can you use it to create interactive plots that can be updated in real time?\n",
        "# Answer:-Bokeh server is a component of bokeh. that allows us  to  build interactive web applications which is connected to python code running on a server.\n",
        "from bokeh.plotting import figure ,output_file , show\n",
        "x = 1,2,3,4,5\n",
        "y = 2,3,4,5,6\n",
        "\n",
        "p = figure(title = 'title')\n",
        "\n",
        "output_file = \"index.html\"\n",
        "\n",
        "p.line(x , y ,line_width=2 ,line_color = 'red')\n",
        "\n",
        "show(p)\n",
        "# it can be updated in real time."
      ],
      "metadata": {
        "id": "y-IhWrco3MyM"
      },
      "execution_count": 16,
      "outputs": []
    },
    {
      "cell_type": "code",
      "source": [
        "# Q5. How can you embed a Bokeh plot into a web page or dashboard using Flask or Django?\n"
      ],
      "metadata": {
        "id": "8E7VQr3L3NK6"
      },
      "execution_count": null,
      "outputs": []
    },
    {
      "cell_type": "code",
      "source": [
        "#To embed a Bokeh plot into a web page or dashboard using Flask or Django, we can use the components() function from the bokeh.embed module, which generates the HTML and JavaScript code needed to display a Bokeh plot in a web page.\n",
        "#Here example of flask,\n",
        "from flask import Flask, render_template\n",
        "from bokeh.embed import components\n",
        "\n",
        "app = Flask(__name__)\n",
        "\n",
        "@app.route('/')\n",
        "def index():\n",
        "    # Create your Bokeh plot here\n",
        "    from bokeh.plotting import figure , output_file , show\n",
        "    x = 1,2,3,4,5\n",
        "    y = 2,3,4,5,6\n",
        "    output_file = \"Index9.html\"\n",
        "    p = figure(title = \"title\")\n",
        "    p.line(x, y, fill_color = 'blue')\n",
        "    show(p)\n",
        "    # Embed the plot into the template\n",
        "    script, div = components(p)  # Replace 'p' with your Bokeh figure\n",
        "\n",
        "    return render_template('index.html', script=script, div=div)\n",
        "\n",
        "if __name__ == '__main__':\n",
        "    app.run(debug=True)\n"
      ],
      "metadata": {
        "id": "Zt1SrwXS3y4F",
        "colab": {
          "base_uri": "https://localhost:8080/"
        },
        "outputId": "df45e44c-2693-4054-c14f-d1517bd064d7"
      },
      "execution_count": null,
      "outputs": [
        {
          "output_type": "stream",
          "name": "stdout",
          "text": [
            " * Serving Flask app '__main__'\n",
            " * Debug mode: on\n"
          ]
        },
        {
          "output_type": "stream",
          "name": "stderr",
          "text": [
            "INFO:werkzeug:\u001b[31m\u001b[1mWARNING: This is a development server. Do not use it in a production deployment. Use a production WSGI server instead.\u001b[0m\n",
            " * Running on http://127.0.0.1:5000\n",
            "INFO:werkzeug:\u001b[33mPress CTRL+C to quit\u001b[0m\n",
            "INFO:werkzeug: * Restarting with stat\n"
          ]
        }
      ]
    },
    {
      "cell_type": "code",
      "source": [],
      "metadata": {
        "id": "v0AQ0v3qrcUI"
      },
      "execution_count": null,
      "outputs": []
    }
  ]
}